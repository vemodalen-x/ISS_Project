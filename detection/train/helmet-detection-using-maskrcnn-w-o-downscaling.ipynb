{
 "cells": [
  {
   "cell_type": "code",
   "execution_count": null,
   "metadata": {
    "execution": {
     "iopub.execute_input": "2021-11-02T01:35:11.149655Z",
     "iopub.status.busy": "2021-11-02T01:35:11.149236Z",
     "iopub.status.idle": "2021-11-02T01:35:14.311391Z",
     "shell.execute_reply": "2021-11-02T01:35:14.310681Z",
     "shell.execute_reply.started": "2021-11-02T01:35:11.149567Z"
    }
   },
   "outputs": [],
   "source": [
    "import sys\n",
    "from pathlib import Path\n",
    "import os\n",
    "from datetime import datetime\n",
    "import time\n",
    "import random\n",
    "import cv2\n",
    "import pandas as pd\n",
    "import numpy as np\n",
    "import albumentations as A\n",
    "import matplotlib.pyplot as plt\n",
    "from albumentations.pytorch.transforms import ToTensorV2\n",
    "from sklearn.model_selection import StratifiedKFold\n",
    "from glob import glob\n",
    "import pandas as pd\n",
    "import gc\n",
    "import warnings\n",
    "from scipy import ndimage\n",
    "from skimage.measure import find_contours\n",
    "from matplotlib.patches import Polygon\n",
    "import copy\n",
    "\n",
    "warnings.filterwarnings(\"ignore\")"
   ]
  },
  {
   "cell_type": "code",
   "execution_count": null,
   "metadata": {
    "execution": {
     "iopub.execute_input": "2021-11-02T01:35:14.313718Z",
     "iopub.status.busy": "2021-11-02T01:35:14.313356Z",
     "iopub.status.idle": "2021-11-02T01:35:19.238973Z",
     "shell.execute_reply": "2021-11-02T01:35:19.237954Z",
     "shell.execute_reply.started": "2021-11-02T01:35:14.313683Z"
    }
   },
   "outputs": [],
   "source": [
    "# os.chdir('../input/mask-rcnn')\n",
    "os.chdir('../input/maskrcnn-tf2-keras')\n",
    "DATA_DIR = Path('../kaggle/input/')\n",
    "ROOT_DIR = \"../../input\"\n",
    "sys.path.append(ROOT_DIR+'/maskrcnn-tf2-keras')\n",
    "from mrcnn.config import Config\n",
    "\n",
    "from mrcnn import utils\n",
    "import mrcnn.model as modellib\n",
    "from mrcnn import visualize\n",
    "from mrcnn.model import log"
   ]
  },
  {
   "cell_type": "code",
   "execution_count": null,
   "metadata": {
    "execution": {
     "iopub.execute_input": "2021-11-02T01:35:19.242852Z",
     "iopub.status.busy": "2021-11-02T01:35:19.242205Z",
     "iopub.status.idle": "2021-11-02T01:35:19.260291Z",
     "shell.execute_reply": "2021-11-02T01:35:19.259158Z",
     "shell.execute_reply.started": "2021-11-02T01:35:19.2428Z"
    }
   },
   "outputs": [],
   "source": [
    "NUM_CATS=1\n",
    "IMAGE_SIZE=512\n",
    "class HelmetConfig(Config):\n",
    "    NAME = \"helmet_detection\"\n",
    "    NUM_CLASSES = NUM_CATS + 1 # +1 for the background class\n",
    "    \n",
    "    GPU_COUNT = 1\n",
    "    IMAGES_PER_GPU = 2 # a memory error occurs when IMAGES_PER_GPU is too high\n",
    "    \n",
    "    BACKBONE = 'resnet50'\n",
    "    \n",
    "    IMAGE_MIN_DIM = IMAGE_SIZE\n",
    "    IMAGE_MAX_DIM = IMAGE_SIZE    \n",
    "    IMAGE_RESIZE_MODE = 'none'\n",
    "    \n",
    "    BACKBONE_STRIDES = [4, 8, 16, 32, 64]\n",
    "    BACKBONESHAPE = (8, 16, 24, 32, 48)\n",
    "    RPN_ANCHOR_SCALES = (8,16,24,32,48)\n",
    "    RPN_TRAIN_ANCHORS_PER_IMAGE = 300\n",
    "    POST_NMS_ROIS_TRAINING = 800\n",
    "    POST_NMS_ROIS_INFERENCE = 700\n",
    "    MAX_GROUNDTRUTH_INSTANCES = 50\n",
    "    TRAIN_ROI_PER_IMAGE = 300\n",
    "    ROI_POSITIVE_RATIO = 0.33\n",
    "    DETECTION_MAX_INSTANCES = 300\n",
    "    DETECTION_MIN_CONFIDENCE = 0.7\n",
    "    DETECTION_NMS_THRESHOLD = 0.5\n",
    "    \n",
    "config = HelmetConfig()\n",
    "config.display()"
   ]
  },
  {
   "cell_type": "code",
   "execution_count": null,
   "metadata": {
    "execution": {
     "iopub.execute_input": "2021-11-02T01:35:19.263179Z",
     "iopub.status.busy": "2021-11-02T01:35:19.26278Z",
     "iopub.status.idle": "2021-11-02T01:35:19.276431Z",
     "shell.execute_reply": "2021-11-02T01:35:19.275531Z",
     "shell.execute_reply.started": "2021-11-02T01:35:19.263135Z"
    }
   },
   "outputs": [],
   "source": [
    "# Fix overlapping masks\n",
    "def refine_masks(masks, rois):\n",
    "    areas = np.sum(masks.reshape(-1, masks.shape[-1]), axis=0)\n",
    "    mask_index = np.argsort(areas)\n",
    "    union_mask = np.zeros(masks.shape[:-1], dtype=bool)\n",
    "    for m in mask_index:\n",
    "        masks[:, :, m] = np.logical_and(masks[:, :, m], np.logical_not(union_mask))\n",
    "        union_mask = np.logical_or(masks[:, :, m], union_mask)\n",
    "    for m in range(masks.shape[-1]):\n",
    "        mask_pos = np.where(masks[:, :, m]==True)\n",
    "        if np.any(mask_pos):\n",
    "            y1, x1 = np.min(mask_pos, axis=1)\n",
    "            y2, x2 = np.max(mask_pos, axis=1)\n",
    "            rois[m, :] = [y1, x1, y2, x2]\n",
    "    return masks, rois\n",
    "\n",
    "def resize_image(image_path):\n",
    "    img = cv2.imread(image_path)\n",
    "    img = cv2.cvtColor(img, cv2.COLOR_BGR2RGB)\n",
    "    img = cv2.resize(img, (IMAGE_SIZE, IMAGE_SIZE), interpolation=cv2.INTER_AREA)  \n",
    "    return img\n",
    "\n",
    "def decode_rle(rle, height, width):\n",
    "    s = rle.split()\n",
    "    starts, lengths = [np.asarray(x, dtype=int) for x in (s[0:][::2], s[1:][::2])]\n",
    "    starts -= 1\n",
    "    ends = starts + lengths\n",
    "    img = np.zeros(height*width, dtype=np.uint8)\n",
    "    for lo, hi in zip(starts, ends):\n",
    "        img[lo:hi] = 1\n",
    "    return img.reshape((height, width)).T\n",
    "\n",
    "def annotations_to_mask(annotations, height, width):\n",
    "    if isinstance(annotations, list):\n",
    "        # The annotation consists in a list of RLE codes\n",
    "        mask = np.zeros((height, width, len(annotations)))\n",
    "        for i, rle_code in enumerate(annotations):\n",
    "            mask[:, :, i] = decode_rle(rle_code, height, width)\n",
    "    else:\n",
    "        error_message = \"{} is expected to be a list or str but received {}\".format(annotation, type(annotation))\n",
    "        raise TypeError(error_message)\n",
    "    return mask"
   ]
  },
  {
   "cell_type": "code",
   "execution_count": null,
   "metadata": {
    "execution": {
     "iopub.execute_input": "2021-11-02T02:32:41.771669Z",
     "iopub.status.busy": "2021-11-02T02:32:41.770808Z",
     "iopub.status.idle": "2021-11-02T02:32:41.851655Z",
     "shell.execute_reply": "2021-11-02T02:32:41.850295Z",
     "shell.execute_reply.started": "2021-11-02T02:32:41.771535Z"
    }
   },
   "outputs": [],
   "source": [
    "class InferenceConfig(HelmetConfig):\n",
    "    GPU_COUNT = 1\n",
    "    IMAGES_PER_GPU = 1\n",
    "    IMAGE_MIN_DIM = IMAGE_SIZE\n",
    "    IMAGE_MAX_DIM = IMAGE_SIZE    \n",
    "    IMAGE_RESIZE_MODE = 'none'\n",
    "    DETECTION_NMS_THRESHOLD = 0.5\n",
    "\n",
    "inference_config = InferenceConfig()\n",
    "\n",
    "model = modellib.MaskRCNN(mode='inference', \n",
    "                          config=inference_config,\n",
    "                          model_dir=\"\")\n",
    "\n",
    "\n",
    "model.load_weights(\"../../input/maskrcnn-helmet-detection/mask_rcnn_helmet_detection.h5\", by_name=True)"
   ]
  },
  {
   "cell_type": "code",
   "execution_count": null,
   "metadata": {
    "execution": {
     "iopub.execute_input": "2021-11-02T01:35:29.59747Z",
     "iopub.status.busy": "2021-11-02T01:35:29.597075Z",
     "iopub.status.idle": "2021-11-02T01:35:29.613114Z",
     "shell.execute_reply": "2021-11-02T01:35:29.611836Z",
     "shell.execute_reply.started": "2021-11-02T01:35:29.597415Z"
    }
   },
   "outputs": [],
   "source": [
    "def predict_on_image(img, y_origin, x_origin, y_margin, x_margin):\n",
    "    img = np.array(img)[y_origin:y_origin+512,x_origin:x_origin+512]\n",
    "    img = cv2.cvtColor(img, cv2.COLOR_BGR2RGB)\n",
    "    result = model.detect([img])\n",
    "    r = result[0]\n",
    "    \n",
    "    x_start_box = 0\n",
    "    y_start_box = 0\n",
    "    x_end_box = 512\n",
    "    y_end_box = 512\n",
    "    if x_origin==0 and y_origin==0:\n",
    "        x_end_box = x_end_box-x_margin\n",
    "        y_end_box = y_end_box-y_margin\n",
    "    elif x_origin>0 and y_origin==0:\n",
    "        x_end_box = x_end_box-x_margin\n",
    "        y_end_box = y_end_box-y_margin\n",
    "        if x_origin<768:\n",
    "            x_start_box = x_start_box+x_margin\n",
    "    elif x_origin>0 and y_origin>0:\n",
    "        y_start_box = y_start_box+y_margin \n",
    "        x_start_box = x_start_box+x_margin\n",
    "        if x_origin<768:\n",
    "            x_end_box = x_end_box-x_margin\n",
    "    elif x_origin==0 and y_origin>0:\n",
    "        y_start_box = y_start_box+y_margin \n",
    "        x_end_box = x_end_box-x_margin\n",
    "    \n",
    "    box_list = []\n",
    "    rois_list = copy.deepcopy(r['rois'])\n",
    "\n",
    "    if r['masks'].size > 0:\n",
    "        masks = np.zeros((img.shape[0], img.shape[1], r['masks'].shape[-1]), dtype=np.uint8)\n",
    "        for m in range(r['masks'].shape[-1]):\n",
    "            masks[:, :, m] = cv2.resize(r['masks'][:, :, m].astype('uint8'), \n",
    "                                        (img.shape[1], img.shape[0]), interpolation=cv2.INTER_NEAREST)\n",
    "\n",
    "        for idx in range(masks.shape[-1]-1):\n",
    "            #maybe x and y centroids are swapped, double check\n",
    "            y_centroid, x_centroid = ndimage.measurements.center_of_mass(masks[:,:,idx])\n",
    "            if x_centroid>x_start_box and x_centroid<x_end_box and y_centroid>y_start_box and y_centroid<y_end_box:\n",
    "                roi = copy.deepcopy(rois_list[idx])\n",
    "                absolute_x_start = x_origin+roi[1]\n",
    "                absolute_x_end = x_origin+roi[3]\n",
    "                absolute_y_start = y_origin+roi[0]\n",
    "                absolute_y_end = y_origin+roi[2]\n",
    "                box_list.append(np.array([absolute_x_start, absolute_y_start, absolute_x_end, absolute_y_end]))\n",
    "\n",
    "\n",
    "        for m in range(r['masks'].shape[-1]):\n",
    "            masks[:, :, m] = cv2.resize(r['masks'][:, :, m].astype('uint8'), \n",
    "                                        (img.shape[1], img.shape[0]), interpolation=cv2.INTER_NEAREST)\n",
    "\n",
    "        y_scale = img.shape[0]/IMAGE_SIZE\n",
    "        x_scale = img.shape[1]/IMAGE_SIZE\n",
    "        rois = (r['rois'] * [y_scale, x_scale, y_scale, x_scale]).astype(int)\n",
    "\n",
    "        rois = np.array([list(roi) for roi in rois if roi[3]-roi[1]<40 or roi[2]-roi[0]<40])\n",
    "        masks = r['masks']\n",
    "    else:\n",
    "        masks, rois = r['masks'], r['rois']\n",
    "\n",
    "    return np.array(box_list)"
   ]
  },
  {
   "cell_type": "code",
   "execution_count": null,
   "metadata": {
    "execution": {
     "iopub.execute_input": "2021-11-02T01:35:29.615429Z",
     "iopub.status.busy": "2021-11-02T01:35:29.614977Z",
     "iopub.status.idle": "2021-11-02T01:35:29.627782Z",
     "shell.execute_reply": "2021-11-02T01:35:29.626805Z",
     "shell.execute_reply.started": "2021-11-02T01:35:29.615384Z"
    }
   },
   "outputs": [],
   "source": [
    "def get_helmet_boxes(img_path):\n",
    "    img = cv2.imread(img_path)\n",
    "    y_tile_origins = [0,208]\n",
    "    x_tile_origins = [0,384,768]\n",
    "    x_margin = 64\n",
    "    y_margin = 152\n",
    "\n",
    "    rois = []\n",
    "    for y in y_tile_origins:\n",
    "        for x in x_tile_origins:\n",
    "            results = predict_on_image(img, y, x, y_margin, x_margin)\n",
    "            for result in results:\n",
    "                rois.append(result)\n",
    "    return np.array(rois)"
   ]
  },
  {
   "cell_type": "code",
   "execution_count": null,
   "metadata": {
    "execution": {
     "iopub.execute_input": "2021-11-02T01:35:29.631304Z",
     "iopub.status.busy": "2021-11-02T01:35:29.63085Z",
     "iopub.status.idle": "2021-11-02T01:35:29.640146Z",
     "shell.execute_reply": "2021-11-02T01:35:29.639021Z",
     "shell.execute_reply.started": "2021-11-02T01:35:29.631246Z"
    }
   },
   "outputs": [],
   "source": [
    "def boxes_overlap(box1, box2):\n",
    "    pixel_shift_flexibility = 7\n",
    "    if abs(box1[0]-box2[0])<pixel_shift_flexibility:\n",
    "        if abs(box1[2]-box2[2])<pixel_shift_flexibility:\n",
    "            if abs(box1[1]-box2[1])<pixel_shift_flexibility:\n",
    "                if abs(box1[3]-box2[3])<pixel_shift_flexibility:\n",
    "                    return True\n",
    "    return False\n",
    "\n",
    "def remove_box(box_to_remove, box_list):\n",
    "    clean_box_list = []\n",
    "    for box in box_list:\n",
    "        if not (box_to_remove==box).all():\n",
    "            clean_box_list.append(box)\n",
    "    return np.array(clean_box_list)\n",
    "\n",
    "def check_overlap(helmet_boxes):\n",
    "    clean_helmet_box_list = []\n",
    "    \n",
    "    helmet_boxes_to_scan = copy.deepcopy(helmet_boxes)\n",
    "    item_suppressed = 0\n",
    "    for idx, helmet_box in enumerate(helmet_boxes):\n",
    "        other_helmet_boxes = remove_box(helmet_box, helmet_boxes_to_scan)\n",
    "        duplicated = False\n",
    "        for other_box in other_helmet_boxes:\n",
    "            if boxes_overlap(helmet_box, other_box):\n",
    "                duplicated = True\n",
    "                item_suppressed +=1 \n",
    "                helmet_boxes_to_scan = remove_box(helmet_box, helmet_boxes_to_scan)\n",
    "        if not duplicated:\n",
    "            clean_helmet_box_list.append(helmet_box)\n",
    "            \n",
    "    return clean_helmet_box_list"
   ]
  },
  {
   "cell_type": "code",
   "execution_count": null,
   "metadata": {
    "execution": {
     "iopub.execute_input": "2021-11-02T01:35:29.6426Z",
     "iopub.status.busy": "2021-11-02T01:35:29.641972Z",
     "iopub.status.idle": "2021-11-02T01:35:29.65418Z",
     "shell.execute_reply": "2021-11-02T01:35:29.653396Z",
     "shell.execute_reply.started": "2021-11-02T01:35:29.642541Z"
    }
   },
   "outputs": [],
   "source": [
    "def bbox_from_mask(img):\n",
    "    rows = np.any(img, axis=1)\n",
    "    cols = np.any(img, axis=0)\n",
    "    rmin, rmax = np.where(rows)[0][[0, -1]]\n",
    "    cmin, cmax = np.where(cols)[0][[0, -1]]\n",
    "\n",
    "    return [cmin, rmin, cmax, rmax]"
   ]
  },
  {
   "cell_type": "markdown",
   "metadata": {},
   "source": [
    "The 2 main functions to run the tiles creation and the prediction on each tiles, and then simply display the boxes onto the original image."
   ]
  },
  {
   "cell_type": "code",
   "execution_count": null,
   "metadata": {
    "execution": {
     "iopub.execute_input": "2021-11-02T01:35:29.656077Z",
     "iopub.status.busy": "2021-11-02T01:35:29.655494Z",
     "iopub.status.idle": "2021-11-02T01:35:29.66604Z",
     "shell.execute_reply": "2021-11-02T01:35:29.664984Z",
     "shell.execute_reply.started": "2021-11-02T01:35:29.656033Z"
    }
   },
   "outputs": [],
   "source": [
    "def detect_helmets(img_path):\n",
    "    \n",
    "    helmet_boxes = get_helmet_boxes(img_path)\n",
    "    helmet_boxes = check_overlap(helmet_boxes)\n",
    "            \n",
    "    return helmet_boxes\n",
    "\n",
    "def display_helmet_detected(helmet_boxes, img_path):\n",
    "    masked_image = cv2.imread(img_path)\n",
    "    for box in helmet_boxes:\n",
    "        masked_image[box[1]:box[3],box[0]:box[2],:] = np.full((box[3]-box[1], box[2]-box[0], 3), (255,255,0))\n",
    "    plt.figure(figsize=(15,10))\n",
    "    plt.imshow(masked_image)\n",
    "    plt.show()"
   ]
  },
  {
   "cell_type": "code",
   "execution_count": null,
   "metadata": {
    "execution": {
     "iopub.execute_input": "2021-11-02T01:35:29.668Z",
     "iopub.status.busy": "2021-11-02T01:35:29.667418Z",
     "iopub.status.idle": "2021-11-02T01:35:29.677572Z",
     "shell.execute_reply": "2021-11-02T01:35:29.676553Z",
     "shell.execute_reply.started": "2021-11-02T01:35:29.667966Z"
    }
   },
   "outputs": [],
   "source": [
    "def mk_images(video_name, video_labels, video_dir, out_dir, only_with_impact=True):\n",
    "    video_path=f\"{video_dir}/{video_name}\"\n",
    "    video_name = os.path.basename(video_path)\n",
    "    vidcap = cv2.VideoCapture(video_path)\n",
    "    if only_with_impact:\n",
    "        boxes_all = video_labels.query(\"video == @video_name\")\n",
    "        print(video_path, boxes_all[boxes_all.impact == 1.0].shape[0])\n",
    "    else:\n",
    "        print(video_path)\n",
    "    frame = 0\n",
    "    while True:\n",
    "        it_worked, img = vidcap.read()\n",
    "        if not it_worked:\n",
    "            break\n",
    "        frame += 1\n",
    "        if only_with_impact:\n",
    "            boxes = video_labels.query(\"video == @video_name and frame == @frame\")\n",
    "            boxes_with_impact = boxes[boxes.impact == 1.0]\n",
    "            if boxes_with_impact.shape[0] == 0:\n",
    "                continue\n",
    "        img_name = f\"{video_name}_frame{frame}\"\n",
    "        image_path = f'{out_dir}/{video_name}'.replace('.mp4',f'_{frame}.png')\n",
    "        _ = cv2.imwrite(image_path, img)"
   ]
  },
  {
   "cell_type": "code",
   "execution_count": null,
   "metadata": {
    "execution": {
     "iopub.execute_input": "2021-11-02T01:35:29.679389Z",
     "iopub.status.busy": "2021-11-02T01:35:29.678974Z",
     "iopub.status.idle": "2021-11-02T01:37:41.329017Z",
     "shell.execute_reply": "2021-11-02T01:37:41.326929Z",
     "shell.execute_reply.started": "2021-11-02T01:35:29.679346Z"
    }
   },
   "outputs": [],
   "source": [
    "os.mkdir(\"../../working/frames\")\n",
    "out_dir = \"../../working/frames\"\n",
    "\n",
    "!mkdir -p $out_dir\n",
    "video_dir = '../../input/nfl-health-and-safety-helmet-assignment/train/'\n",
    "video_folder = [path.split('/')[-1] for path in glob(f'{video_dir}/*.mp4')]\n",
    "for video_name in video_folder[:6]:\n",
    "    mk_images(video_name, pd.DataFrame(), video_dir, out_dir, only_with_impact=False)"
   ]
  },
  {
   "cell_type": "code",
   "execution_count": null,
   "metadata": {
    "execution": {
     "iopub.execute_input": "2021-11-02T01:37:41.333147Z",
     "iopub.status.busy": "2021-11-02T01:37:41.332682Z",
     "iopub.status.idle": "2021-11-02T01:37:42.667495Z",
     "shell.execute_reply": "2021-11-02T01:37:42.666522Z",
     "shell.execute_reply.started": "2021-11-02T01:37:41.333092Z"
    }
   },
   "outputs": [],
   "source": [
    "train_baseline_df = pd.read_csv(\"../../input/nfl-health-and-safety-helmet-assignment/train_baseline_helmets.csv\")"
   ]
  },
  {
   "cell_type": "code",
   "execution_count": null,
   "metadata": {
    "execution": {
     "iopub.execute_input": "2021-11-02T01:37:42.669338Z",
     "iopub.status.busy": "2021-11-02T01:37:42.66898Z",
     "iopub.status.idle": "2021-11-02T01:37:42.677696Z",
     "shell.execute_reply": "2021-11-02T01:37:42.676534Z",
     "shell.execute_reply.started": "2021-11-02T01:37:42.669299Z"
    }
   },
   "outputs": [],
   "source": [
    "def run_comparison(img_path):\n",
    "    frame_name = img_path.split(\"/\")[-1].replace(\".png\",\"\")\n",
    "    frame_df = train_baseline_df[train_baseline_df[\"video_frame\"]==frame_name]\n",
    "    #show the baseline\n",
    "    baseline_boxes = np.array([np.array([row.left, row.top, row.left+row.width, row.top+row.height ])  for idx, row in frame_df.iterrows()])\n",
    "    display_helmet_detected(baseline_boxes, img_path)\n",
    "    #run the model\n",
    "    helmet_boxes = detect_helmets(img_path)\n",
    "    display_helmet_detected(helmet_boxes, img_path)"
   ]
  },
  {
   "cell_type": "code",
   "execution_count": null,
   "metadata": {
    "execution": {
     "iopub.execute_input": "2021-11-02T01:37:42.67997Z",
     "iopub.status.busy": "2021-11-02T01:37:42.6795Z",
     "iopub.status.idle": "2021-11-02T01:38:08.509782Z",
     "shell.execute_reply": "2021-11-02T01:38:08.5088Z",
     "shell.execute_reply.started": "2021-11-02T01:37:42.679924Z"
    }
   },
   "outputs": [],
   "source": [
    "run_comparison(\"../../working/frames/57784_001741_Endzone_200.png\")"
   ]
  },
  {
   "cell_type": "code",
   "execution_count": null,
   "metadata": {
    "execution": {
     "iopub.execute_input": "2021-11-02T01:38:08.511324Z",
     "iopub.status.busy": "2021-11-02T01:38:08.51104Z",
     "iopub.status.idle": "2021-11-02T01:38:32.826036Z",
     "shell.execute_reply": "2021-11-02T01:38:32.825301Z",
     "shell.execute_reply.started": "2021-11-02T01:38:08.511295Z"
    }
   },
   "outputs": [],
   "source": [
    "run_comparison(\"../../working/frames/58104_000352_Sideline_30.png\")"
   ]
  },
  {
   "cell_type": "code",
   "execution_count": null,
   "metadata": {
    "execution": {
     "iopub.execute_input": "2021-11-02T01:38:32.827404Z",
     "iopub.status.busy": "2021-11-02T01:38:32.827057Z",
     "iopub.status.idle": "2021-11-02T01:38:57.199747Z",
     "shell.execute_reply": "2021-11-02T01:38:57.198613Z",
     "shell.execute_reply.started": "2021-11-02T01:38:32.827378Z"
    }
   },
   "outputs": [],
   "source": [
    "run_comparison(\"../../working/frames/57686_002546_Endzone_120.png\")"
   ]
  },
  {
   "cell_type": "code",
   "execution_count": null,
   "metadata": {
    "execution": {
     "iopub.execute_input": "2021-11-02T01:38:57.20154Z",
     "iopub.status.busy": "2021-11-02T01:38:57.201162Z",
     "iopub.status.idle": "2021-11-02T01:39:21.054466Z",
     "shell.execute_reply": "2021-11-02T01:39:21.053593Z",
     "shell.execute_reply.started": "2021-11-02T01:38:57.201503Z"
    }
   },
   "outputs": [],
   "source": [
    "run_comparison(\"../../working/frames/58106_002918_Sideline_70.png\")"
   ]
  },
  {
   "cell_type": "code",
   "execution_count": null,
   "metadata": {
    "execution": {
     "iopub.execute_input": "2021-11-02T01:39:21.056497Z",
     "iopub.status.busy": "2021-11-02T01:39:21.055933Z",
     "iopub.status.idle": "2021-11-02T01:39:22.32397Z",
     "shell.execute_reply": "2021-11-02T01:39:22.322616Z",
     "shell.execute_reply.started": "2021-11-02T01:39:21.056414Z"
    }
   },
   "outputs": [],
   "source": [
    "!rm -rf ../../working/frames"
   ]
  }
 ],
 "metadata": {
  "kernelspec": {
   "display_name": "Python 3 (ipykernel)",
   "language": "python",
   "name": "python3"
  },
  "language_info": {
   "codemirror_mode": {
    "name": "ipython",
    "version": 3
   },
   "file_extension": ".py",
   "mimetype": "text/x-python",
   "name": "python",
   "nbconvert_exporter": "python",
   "pygments_lexer": "ipython3",
   "version": "3.8.5"
  }
 },
 "nbformat": 4,
 "nbformat_minor": 4
}
